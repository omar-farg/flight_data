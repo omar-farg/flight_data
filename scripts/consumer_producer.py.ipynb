{
 "cells": [
  {
   "cell_type": "code",
   "execution_count": null,
   "id": "cc2908ea",
   "metadata": {},
   "outputs": [],
   "source": [
    "pip install kafka-python"
   ]
  },
  {
   "cell_type": "code",
   "execution_count": 1,
   "id": "9717935b",
   "metadata": {},
   "outputs": [
    {
     "ename": "NoBrokersAvailable",
     "evalue": "NoBrokersAvailable",
     "output_type": "error",
     "traceback": [
      "\u001b[31m---------------------------------------------------------------------------\u001b[39m",
      "\u001b[31mNoBrokersAvailable\u001b[39m                        Traceback (most recent call last)",
      "\u001b[36mCell\u001b[39m\u001b[36m \u001b[39m\u001b[32mIn[1]\u001b[39m\u001b[32m, line 10\u001b[39m\n\u001b[32m      7\u001b[39m INPUT_TOPIC = \u001b[33m\"\u001b[39m\u001b[33mflights\u001b[39m\u001b[33m\"\u001b[39m\n\u001b[32m      8\u001b[39m OUTPUT_TOPIC = \u001b[33m\"\u001b[39m\u001b[33mpredictions\u001b[39m\u001b[33m\"\u001b[39m\n\u001b[32m---> \u001b[39m\u001b[32m10\u001b[39m consumer = \u001b[43mKafkaConsumer\u001b[49m\u001b[43m(\u001b[49m\n\u001b[32m     11\u001b[39m \u001b[43m    \u001b[49m\u001b[43mINPUT_TOPIC\u001b[49m\u001b[43m,\u001b[49m\n\u001b[32m     12\u001b[39m \u001b[43m    \u001b[49m\u001b[43mbootstrap_servers\u001b[49m\u001b[43m=\u001b[49m\u001b[43mBOOTSTRAP_SERVERS\u001b[49m\u001b[43m,\u001b[49m\n\u001b[32m     13\u001b[39m \u001b[43m    \u001b[49m\u001b[43mvalue_deserializer\u001b[49m\u001b[43m=\u001b[49m\u001b[38;5;28;43;01mlambda\u001b[39;49;00m\u001b[43m \u001b[49m\u001b[43mx\u001b[49m\u001b[43m:\u001b[49m\u001b[43m \u001b[49m\u001b[43mjson\u001b[49m\u001b[43m.\u001b[49m\u001b[43mloads\u001b[49m\u001b[43m(\u001b[49m\u001b[43mx\u001b[49m\u001b[43m.\u001b[49m\u001b[43mdecode\u001b[49m\u001b[43m(\u001b[49m\u001b[33;43m\"\u001b[39;49m\u001b[33;43mutf-8\u001b[39;49m\u001b[33;43m\"\u001b[39;49m\u001b[43m)\u001b[49m\u001b[43m)\u001b[49m\u001b[43m,\u001b[49m\n\u001b[32m     14\u001b[39m \u001b[43m    \u001b[49m\u001b[43mauto_offset_reset\u001b[49m\u001b[43m=\u001b[49m\u001b[33;43m\"\u001b[39;49m\u001b[33;43mearliest\u001b[39;49m\u001b[33;43m\"\u001b[39;49m\u001b[43m,\u001b[49m\n\u001b[32m     15\u001b[39m \u001b[43m    \u001b[49m\u001b[43menable_auto_commit\u001b[49m\u001b[43m=\u001b[49m\u001b[38;5;28;43;01mTrue\u001b[39;49;00m\u001b[43m,\u001b[49m\n\u001b[32m     16\u001b[39m \u001b[43m    \u001b[49m\u001b[43mgroup_id\u001b[49m\u001b[43m=\u001b[49m\u001b[33;43m\"\u001b[39;49m\u001b[33;43mjupyter-model\u001b[39;49m\u001b[33;43m\"\u001b[39;49m\u001b[43m,\u001b[49m\n\u001b[32m     17\u001b[39m \u001b[43m)\u001b[49m\n\u001b[32m     19\u001b[39m producer = KafkaProducer(\n\u001b[32m     20\u001b[39m     bootstrap_servers=BOOTSTRAP_SERVERS,\n\u001b[32m     21\u001b[39m     value_serializer=\u001b[38;5;28;01mlambda\u001b[39;00m v: json.dumps(v).encode(\u001b[33m\"\u001b[39m\u001b[33mutf-8\u001b[39m\u001b[33m\"\u001b[39m),\n\u001b[32m     22\u001b[39m )\n\u001b[32m     24\u001b[39m \u001b[38;5;28mprint\u001b[39m(\u001b[33mf\u001b[39m\u001b[33m\"\u001b[39m\u001b[33m✅ Started consuming from topic: \u001b[39m\u001b[38;5;132;01m{\u001b[39;00mINPUT_TOPIC\u001b[38;5;132;01m}\u001b[39;00m\u001b[33m\"\u001b[39m)\n",
      "\u001b[36mFile \u001b[39m\u001b[32m~\\AppData\\Roaming\\Python\\Python313\\site-packages\\kafka\\consumer\\group.py:387\u001b[39m, in \u001b[36mKafkaConsumer.__init__\u001b[39m\u001b[34m(self, *topics, **configs)\u001b[39m\n\u001b[32m    383\u001b[39m         \u001b[38;5;28mself\u001b[39m.config[\u001b[33m'\u001b[39m\u001b[33mapi_version\u001b[39m\u001b[33m'\u001b[39m] = \u001b[38;5;28mtuple\u001b[39m(\u001b[38;5;28mmap\u001b[39m(\u001b[38;5;28mint\u001b[39m, str_version.split(\u001b[33m'\u001b[39m\u001b[33m.\u001b[39m\u001b[33m'\u001b[39m)))\n\u001b[32m    384\u001b[39m     log.warning(\u001b[33m'\u001b[39m\u001b[33muse api_version=\u001b[39m\u001b[38;5;132;01m%s\u001b[39;00m\u001b[33m [tuple] -- \u001b[39m\u001b[33m\"\u001b[39m\u001b[38;5;132;01m%s\u001b[39;00m\u001b[33m\"\u001b[39m\u001b[33m as str is deprecated\u001b[39m\u001b[33m'\u001b[39m,\n\u001b[32m    385\u001b[39m                 \u001b[38;5;28mstr\u001b[39m(\u001b[38;5;28mself\u001b[39m.config[\u001b[33m'\u001b[39m\u001b[33mapi_version\u001b[39m\u001b[33m'\u001b[39m]), str_version)\n\u001b[32m--> \u001b[39m\u001b[32m387\u001b[39m \u001b[38;5;28mself\u001b[39m._client = \u001b[38;5;28;43mself\u001b[39;49m\u001b[43m.\u001b[49m\u001b[43mconfig\u001b[49m\u001b[43m[\u001b[49m\u001b[33;43m'\u001b[39;49m\u001b[33;43mkafka_client\u001b[39;49m\u001b[33;43m'\u001b[39;49m\u001b[43m]\u001b[49m\u001b[43m(\u001b[49m\u001b[43mmetrics\u001b[49m\u001b[43m=\u001b[49m\u001b[38;5;28;43mself\u001b[39;49m\u001b[43m.\u001b[49m\u001b[43m_metrics\u001b[49m\u001b[43m,\u001b[49m\u001b[43m \u001b[49m\u001b[43m*\u001b[49m\u001b[43m*\u001b[49m\u001b[38;5;28;43mself\u001b[39;49m\u001b[43m.\u001b[49m\u001b[43mconfig\u001b[49m\u001b[43m)\u001b[49m\n\u001b[32m    389\u001b[39m \u001b[38;5;66;03m# Get auto-discovered / normalized version from client\u001b[39;00m\n\u001b[32m    390\u001b[39m \u001b[38;5;28mself\u001b[39m.config[\u001b[33m'\u001b[39m\u001b[33mapi_version\u001b[39m\u001b[33m'\u001b[39m] = \u001b[38;5;28mself\u001b[39m._client.config[\u001b[33m'\u001b[39m\u001b[33mapi_version\u001b[39m\u001b[33m'\u001b[39m]\n",
      "\u001b[36mFile \u001b[39m\u001b[32m~\\AppData\\Roaming\\Python\\Python313\\site-packages\\kafka\\client_async.py:262\u001b[39m, in \u001b[36mKafkaClient.__init__\u001b[39m\u001b[34m(self, **configs)\u001b[39m\n\u001b[32m    260\u001b[39m \u001b[38;5;66;03m# Check Broker Version if not set explicitly\u001b[39;00m\n\u001b[32m    261\u001b[39m \u001b[38;5;28;01mif\u001b[39;00m \u001b[38;5;28mself\u001b[39m.config[\u001b[33m'\u001b[39m\u001b[33mapi_version\u001b[39m\u001b[33m'\u001b[39m] \u001b[38;5;129;01mis\u001b[39;00m \u001b[38;5;28;01mNone\u001b[39;00m:\n\u001b[32m--> \u001b[39m\u001b[32m262\u001b[39m     \u001b[38;5;28mself\u001b[39m.config[\u001b[33m'\u001b[39m\u001b[33mapi_version\u001b[39m\u001b[33m'\u001b[39m] = \u001b[38;5;28;43mself\u001b[39;49m\u001b[43m.\u001b[49m\u001b[43mcheck_version\u001b[49m\u001b[43m(\u001b[49m\u001b[43m)\u001b[49m\n\u001b[32m    263\u001b[39m \u001b[38;5;28;01melif\u001b[39;00m \u001b[38;5;28mself\u001b[39m.config[\u001b[33m'\u001b[39m\u001b[33mapi_version\u001b[39m\u001b[33m'\u001b[39m] \u001b[38;5;129;01min\u001b[39;00m BROKER_API_VERSIONS:\n\u001b[32m    264\u001b[39m     \u001b[38;5;28mself\u001b[39m._api_versions = BROKER_API_VERSIONS[\u001b[38;5;28mself\u001b[39m.config[\u001b[33m'\u001b[39m\u001b[33mapi_version\u001b[39m\u001b[33m'\u001b[39m]]\n",
      "\u001b[36mFile \u001b[39m\u001b[32m~\\AppData\\Roaming\\Python\\Python313\\site-packages\\kafka\\client_async.py:1074\u001b[39m, in \u001b[36mKafkaClient.check_version\u001b[39m\u001b[34m(self, node_id, timeout, **kwargs)\u001b[39m\n\u001b[32m   1072\u001b[39m     \u001b[38;5;28;01mraise\u001b[39;00m Errors.NodeNotReadyError(node_id)\n\u001b[32m   1073\u001b[39m \u001b[38;5;28;01melse\u001b[39;00m:\n\u001b[32m-> \u001b[39m\u001b[32m1074\u001b[39m     \u001b[38;5;28;01mraise\u001b[39;00m Errors.NoBrokersAvailable()\n",
      "\u001b[31mNoBrokersAvailable\u001b[39m: NoBrokersAvailable"
     ]
    }
   ],
   "source": [
    "from kafka import KafkaConsumer, KafkaProducer\n",
    "import json\n",
    "import time\n",
    "import random\n",
    "\n",
    "BOOTSTRAP_SERVERS = \"broker:29092\"\n",
    "INPUT_TOPIC = \"flights\"\n",
    "OUTPUT_TOPIC = \"predictions\"\n",
    "\n",
    "consumer = KafkaConsumer(\n",
    "    INPUT_TOPIC,\n",
    "    bootstrap_servers=BOOTSTRAP_SERVERS,\n",
    "    value_deserializer=lambda x: json.loads(x.decode(\"utf-8\")),\n",
    "    auto_offset_reset=\"earliest\",\n",
    "    enable_auto_commit=True,\n",
    "    group_id=\"jupyter-model\",\n",
    ")\n",
    "\n",
    "producer = KafkaProducer(\n",
    "    bootstrap_servers=BOOTSTRAP_SERVERS,\n",
    "    value_serializer=lambda v: json.dumps(v).encode(\"utf-8\"),\n",
    ")\n",
    "\n",
    "print(f\"✅ Started consuming from topic: {INPUT_TOPIC}\")\n",
    "print(f\"✅ Will produce predictions to topic: {OUTPUT_TOPIC}\")\n",
    "\n",
    "for message in consumer:\n",
    "    event = message.value\n",
    "    print(f\"📥 Received: {event}\")\n",
    "\n",
    "    prediction = random.random()\n",
    "\n",
    "    result = {\n",
    "        \"flight_id\": event.get(\"flight_id\"),\n",
    "        \"prediction\": prediction,\n",
    "        \"timestamp\": int(time.time()),\n",
    "    }\n",
    "\n",
    "    producer.send(OUTPUT_TOPIC, value=result)\n",
    "    producer.flush()\n",
    "\n",
    "    print(f\"📤 Sent prediction: {result}\")\n"
   ]
  }
 ],
 "metadata": {
  "kernelspec": {
   "display_name": "Python 3",
   "language": "python",
   "name": "python3"
  },
  "language_info": {
   "codemirror_mode": {
    "name": "ipython",
    "version": 3
   },
   "file_extension": ".py",
   "mimetype": "text/x-python",
   "name": "python",
   "nbconvert_exporter": "python",
   "pygments_lexer": "ipython3",
   "version": "3.13.7"
  }
 },
 "nbformat": 4,
 "nbformat_minor": 5
}
